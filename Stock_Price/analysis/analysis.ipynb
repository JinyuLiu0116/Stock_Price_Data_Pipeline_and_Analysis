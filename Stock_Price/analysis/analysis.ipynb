#this code is used to upload data file directly from local, I will study how to get data from mysql.
# Step 2: Import libraries
import pandas as pd
import matplotlib.pyplot as plt

# Step 3: Load data
from google.colab import files
uploaded = files.upload()

import io
df = pd.read_csv(io.BytesIO(uploaded['your_file.csv']))

# Step 4: Data analysis
print(df.head())
print(df.describe())

# Step 5: Data visualization
plt.figure(figsize=(10, 6))
plt.plot(df['Date'], df['Close'], label='Close Price')
plt.xlabel('Date')
plt.ylabel('Close Price')
plt.title('Stock Close Price Over Time')
plt.legend()
plt.show()
